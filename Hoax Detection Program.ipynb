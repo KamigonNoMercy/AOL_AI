{
 "cells": [
  {
   "cell_type": "code",
   "execution_count": 2,
   "id": "15f047f8-abb2-405c-a351-9999fef59acf",
   "metadata": {},
   "outputs": [],
   "source": [
    "import numpy as np\n",
    "import pandas as pd\n",
    "from sklearn.model_selection import train_test_split\n",
    "from sklearn.feature_extraction.text import TfidfVectorizer\n",
    "from sklearn.svm import LinearSVC\n",
    "from sklearn.pipeline import make_pipeline\n",
    "from sklearn import metrics\n",
    "import seaborn as sns\n",
    "import matplotlib.pyplot as plt\n",
    "from sklearn.metrics import confusion_matrix, f1_score, precision_score, recall_score\n",
    "import os"
   ]
  },
  {
   "cell_type": "code",
   "execution_count": 3,
   "id": "8690b01e",
   "metadata": {},
   "outputs": [],
   "source": [
    "# Load dataset\n",
    "df = pd.read_csv(\"fake_or_real_news.csv\")"
   ]
  },
  {
   "cell_type": "code",
   "execution_count": 4,
   "id": "52089738",
   "metadata": {},
   "outputs": [],
   "source": [
    "# Create binary labels\n",
    "df['fake'] = df['label'].apply(lambda x: 0 if x == \"REAL\" else 1)"
   ]
  },
  {
   "cell_type": "code",
   "execution_count": 5,
   "id": "56ac8858",
   "metadata": {},
   "outputs": [],
   "source": [
    "# Drop the original label column\n",
    "df = df.drop(\"label\", axis=1)"
   ]
  },
  {
   "cell_type": "code",
   "execution_count": 6,
   "id": "d3a9d92f",
   "metadata": {},
   "outputs": [],
   "source": [
    "# Prepare features and labels\n",
    "X, y = df['text'], df['fake']"
   ]
  },
  {
   "cell_type": "code",
   "execution_count": 7,
   "id": "f3ada32f",
   "metadata": {},
   "outputs": [],
   "source": [
    "# Split the dataset into training and testing sets\n",
    "X_train, X_test, y_train, y_test = train_test_split(X, y, test_size=0.2, random_state=42)"
   ]
  },
  {
   "cell_type": "code",
   "execution_count": 8,
   "id": "ff5c5cf5",
   "metadata": {},
   "outputs": [],
   "source": [
    "# Create a pipeline that combines the vectorizer and the classifier\n",
    "model = make_pipeline(TfidfVectorizer(stop_words=\"english\", max_df=0.7), LinearSVC())"
   ]
  },
  {
   "cell_type": "code",
   "execution_count": 9,
   "id": "67839ca8",
   "metadata": {},
   "outputs": [
    {
     "data": {
      "text/html": [
       "<style>#sk-container-id-1 {color: black;background-color: white;}#sk-container-id-1 pre{padding: 0;}#sk-container-id-1 div.sk-toggleable {background-color: white;}#sk-container-id-1 label.sk-toggleable__label {cursor: pointer;display: block;width: 100%;margin-bottom: 0;padding: 0.3em;box-sizing: border-box;text-align: center;}#sk-container-id-1 label.sk-toggleable__label-arrow:before {content: \"▸\";float: left;margin-right: 0.25em;color: #696969;}#sk-container-id-1 label.sk-toggleable__label-arrow:hover:before {color: black;}#sk-container-id-1 div.sk-estimator:hover label.sk-toggleable__label-arrow:before {color: black;}#sk-container-id-1 div.sk-toggleable__content {max-height: 0;max-width: 0;overflow: hidden;text-align: left;background-color: #f0f8ff;}#sk-container-id-1 div.sk-toggleable__content pre {margin: 0.2em;color: black;border-radius: 0.25em;background-color: #f0f8ff;}#sk-container-id-1 input.sk-toggleable__control:checked~div.sk-toggleable__content {max-height: 200px;max-width: 100%;overflow: auto;}#sk-container-id-1 input.sk-toggleable__control:checked~label.sk-toggleable__label-arrow:before {content: \"▾\";}#sk-container-id-1 div.sk-estimator input.sk-toggleable__control:checked~label.sk-toggleable__label {background-color: #d4ebff;}#sk-container-id-1 div.sk-label input.sk-toggleable__control:checked~label.sk-toggleable__label {background-color: #d4ebff;}#sk-container-id-1 input.sk-hidden--visually {border: 0;clip: rect(1px 1px 1px 1px);clip: rect(1px, 1px, 1px, 1px);height: 1px;margin: -1px;overflow: hidden;padding: 0;position: absolute;width: 1px;}#sk-container-id-1 div.sk-estimator {font-family: monospace;background-color: #f0f8ff;border: 1px dotted black;border-radius: 0.25em;box-sizing: border-box;margin-bottom: 0.5em;}#sk-container-id-1 div.sk-estimator:hover {background-color: #d4ebff;}#sk-container-id-1 div.sk-parallel-item::after {content: \"\";width: 100%;border-bottom: 1px solid gray;flex-grow: 1;}#sk-container-id-1 div.sk-label:hover label.sk-toggleable__label {background-color: #d4ebff;}#sk-container-id-1 div.sk-serial::before {content: \"\";position: absolute;border-left: 1px solid gray;box-sizing: border-box;top: 0;bottom: 0;left: 50%;z-index: 0;}#sk-container-id-1 div.sk-serial {display: flex;flex-direction: column;align-items: center;background-color: white;padding-right: 0.2em;padding-left: 0.2em;position: relative;}#sk-container-id-1 div.sk-item {position: relative;z-index: 1;}#sk-container-id-1 div.sk-parallel {display: flex;align-items: stretch;justify-content: center;background-color: white;position: relative;}#sk-container-id-1 div.sk-item::before, #sk-container-id-1 div.sk-parallel-item::before {content: \"\";position: absolute;border-left: 1px solid gray;box-sizing: border-box;top: 0;bottom: 0;left: 50%;z-index: -1;}#sk-container-id-1 div.sk-parallel-item {display: flex;flex-direction: column;z-index: 1;position: relative;background-color: white;}#sk-container-id-1 div.sk-parallel-item:first-child::after {align-self: flex-end;width: 50%;}#sk-container-id-1 div.sk-parallel-item:last-child::after {align-self: flex-start;width: 50%;}#sk-container-id-1 div.sk-parallel-item:only-child::after {width: 0;}#sk-container-id-1 div.sk-dashed-wrapped {border: 1px dashed gray;margin: 0 0.4em 0.5em 0.4em;box-sizing: border-box;padding-bottom: 0.4em;background-color: white;}#sk-container-id-1 div.sk-label label {font-family: monospace;font-weight: bold;display: inline-block;line-height: 1.2em;}#sk-container-id-1 div.sk-label-container {text-align: center;}#sk-container-id-1 div.sk-container {/* jupyter's `normalize.less` sets `[hidden] { display: none; }` but bootstrap.min.css set `[hidden] { display: none !important; }` so we also need the `!important` here to be able to override the default hidden behavior on the sphinx rendered scikit-learn.org. See: https://github.com/scikit-learn/scikit-learn/issues/21755 */display: inline-block !important;position: relative;}#sk-container-id-1 div.sk-text-repr-fallback {display: none;}</style><div id=\"sk-container-id-1\" class=\"sk-top-container\"><div class=\"sk-text-repr-fallback\"><pre>Pipeline(steps=[(&#x27;tfidfvectorizer&#x27;,\n",
       "                 TfidfVectorizer(max_df=0.7, stop_words=&#x27;english&#x27;)),\n",
       "                (&#x27;linearsvc&#x27;, LinearSVC())])</pre><b>In a Jupyter environment, please rerun this cell to show the HTML representation or trust the notebook. <br />On GitHub, the HTML representation is unable to render, please try loading this page with nbviewer.org.</b></div><div class=\"sk-container\" hidden><div class=\"sk-item sk-dashed-wrapped\"><div class=\"sk-label-container\"><div class=\"sk-label sk-toggleable\"><input class=\"sk-toggleable__control sk-hidden--visually\" id=\"sk-estimator-id-1\" type=\"checkbox\" ><label for=\"sk-estimator-id-1\" class=\"sk-toggleable__label sk-toggleable__label-arrow\">Pipeline</label><div class=\"sk-toggleable__content\"><pre>Pipeline(steps=[(&#x27;tfidfvectorizer&#x27;,\n",
       "                 TfidfVectorizer(max_df=0.7, stop_words=&#x27;english&#x27;)),\n",
       "                (&#x27;linearsvc&#x27;, LinearSVC())])</pre></div></div></div><div class=\"sk-serial\"><div class=\"sk-item\"><div class=\"sk-estimator sk-toggleable\"><input class=\"sk-toggleable__control sk-hidden--visually\" id=\"sk-estimator-id-2\" type=\"checkbox\" ><label for=\"sk-estimator-id-2\" class=\"sk-toggleable__label sk-toggleable__label-arrow\">TfidfVectorizer</label><div class=\"sk-toggleable__content\"><pre>TfidfVectorizer(max_df=0.7, stop_words=&#x27;english&#x27;)</pre></div></div></div><div class=\"sk-item\"><div class=\"sk-estimator sk-toggleable\"><input class=\"sk-toggleable__control sk-hidden--visually\" id=\"sk-estimator-id-3\" type=\"checkbox\" ><label for=\"sk-estimator-id-3\" class=\"sk-toggleable__label sk-toggleable__label-arrow\">LinearSVC</label><div class=\"sk-toggleable__content\"><pre>LinearSVC()</pre></div></div></div></div></div></div></div>"
      ],
      "text/plain": [
       "Pipeline(steps=[('tfidfvectorizer',\n",
       "                 TfidfVectorizer(max_df=0.7, stop_words='english')),\n",
       "                ('linearsvc', LinearSVC())])"
      ]
     },
     "execution_count": 9,
     "metadata": {},
     "output_type": "execute_result"
    }
   ],
   "source": [
    "# Train the model\n",
    "model.fit(X_train, y_train)"
   ]
  },
  {
   "cell_type": "code",
   "execution_count": 10,
   "id": "d985fa89",
   "metadata": {},
   "outputs": [],
   "source": [
    "# Evaluate the model\n",
    "predictions = model.predict(X_test)\n",
    "accuracy = metrics.accuracy_score(y_test, predictions)"
   ]
  },
  {
   "cell_type": "code",
   "execution_count": 11,
   "id": "0ba0b3dd-cc17-4ea1-b874-bfa938b61c9b",
   "metadata": {},
   "outputs": [],
   "source": [
    "# Confusion matrix\n",
    "conf_matrix = confusion_matrix(y_test, predictions)"
   ]
  },
  {
   "cell_type": "code",
   "execution_count": 12,
   "id": "77ae77ca-62be-4777-8e87-9d71ae513688",
   "metadata": {},
   "outputs": [],
   "source": [
    "# Calculate TP, TN, FP, FN\n",
    "TN, FP, FN, TP = conf_matrix.ravel()"
   ]
  },
  {
   "cell_type": "code",
   "execution_count": 13,
   "id": "07ae7d3c-263b-4ffc-abc0-eeb08c89c085",
   "metadata": {},
   "outputs": [],
   "source": [
    "# Additional metrics\n",
    "f1 = f1_score(y_test, predictions)\n",
    "precision = precision_score(y_test, predictions)\n",
    "recall = recall_score(y_test, predictions)"
   ]
  },
  {
   "cell_type": "code",
   "execution_count": 14,
   "id": "4a83dd0a-2357-4f7e-a259-ec3de31845f0",
   "metadata": {},
   "outputs": [],
   "source": [
    "def classify_news(text):\n",
    "    prediction = model.predict([text])\n",
    "    return \"Fake\" if prediction[0] == 1 else \"Real\""
   ]
  },
  {
   "cell_type": "code",
   "execution_count": 15,
   "id": "5f927624-635e-4ca5-95f4-f5500cff0122",
   "metadata": {},
   "outputs": [],
   "source": [
    "def show_metrics():\n",
    "    print(\"\\nPerformance Metrics:\")\n",
    "    print(f'{\"Accuracy:\":<20} {accuracy:.2f}')\n",
    "    print(f'{\"F1 Score:\":<20} {f1:.2f}')\n",
    "    print(f'{\"Precision:\":<20} {precision:.2f}')\n",
    "    print(f'{\"Recall:\":<20} {recall:.2f}')\n",
    "    print(f'{\"True Positives (TP):\":<20} {TP}')\n",
    "    print(f'{\"True Negatives (TN):\":<20} {TN}')\n",
    "    print(f'{\"False Positives (FP):\":<20} {FP}')\n",
    "    print(f'{\"False Negatives (FN):\":<20} {FN}')"
   ]
  },
  {
   "cell_type": "code",
   "execution_count": 16,
   "id": "b14ab9c7-5226-4c3e-80fb-0dafaaf2f80a",
   "metadata": {},
   "outputs": [],
   "source": [
    "def show_confusion_matrix():\n",
    "    plt.figure(figsize=(10,7))\n",
    "    sns.heatmap(conf_matrix, annot=True, fmt='d', cmap='Blues', xticklabels=['Real', 'Fake'], yticklabels=['Real', 'Fake'])\n",
    "    plt.xlabel('Predicted Labels')\n",
    "    plt.ylabel('True Labels')\n",
    "    plt.title('Confusion Matrix')\n",
    "    plt.show()"
   ]
  },
  {
   "cell_type": "code",
   "execution_count": 17,
   "id": "70a87f3a-3629-45f3-81e5-c56c32c24899",
   "metadata": {},
   "outputs": [
    {
     "name": "stdout",
     "output_type": "stream",
     "text": [
      "\n",
      "========================================\n",
      "== Welcome to the Fake News Detector ===\n",
      "========================================\n",
      "1. Fake News Detector\n",
      "2. Confusion Matrix\n",
      "3. Show Performance Metrics\n",
      "4. Exit Program\n",
      "========================================\n"
     ]
    },
    {
     "name": "stdin",
     "output_type": "stream",
     "text": [
      "Enter your choice (1/2/3/4):  3\n"
     ]
    },
    {
     "name": "stdout",
     "output_type": "stream",
     "text": [
      "\n",
      "Displaying Performance Metrics...\n",
      "\n",
      "\n",
      "Performance Metrics:\n",
      "Accuracy:            0.94\n",
      "F1 Score:            0.94\n",
      "Precision:           0.93\n",
      "Recall:              0.95\n",
      "True Positives (TP): 594\n",
      "True Negatives (TN): 592\n",
      "False Positives (FP): 47\n",
      "False Negatives (FN): 34\n",
      "\n",
      "========================================\n",
      "== Welcome to the Fake News Detector ===\n",
      "========================================\n",
      "1. Fake News Detector\n",
      "2. Confusion Matrix\n",
      "3. Show Performance Metrics\n",
      "4. Exit Program\n",
      "========================================\n"
     ]
    },
    {
     "name": "stdin",
     "output_type": "stream",
     "text": [
      "Enter your choice (1/2/3/4):  1\n",
      "\n",
      "Enter a news text to classify:\n",
      " U.S. Secretary of State John F. Kerry said Monday he will travel to Paris later this week in a gesture of American solidarity with the French people after last week’s terrorist attacks.\n"
     ]
    },
    {
     "name": "stdout",
     "output_type": "stream",
     "text": [
      "\n",
      "The news is predicted to be: Real\n",
      "\n",
      "========================================\n",
      "== Welcome to the Fake News Detector ===\n",
      "========================================\n",
      "1. Fake News Detector\n",
      "2. Confusion Matrix\n",
      "3. Show Performance Metrics\n",
      "4. Exit Program\n",
      "========================================\n"
     ]
    },
    {
     "name": "stdin",
     "output_type": "stream",
     "text": [
      "Enter your choice (1/2/3/4):  1\n",
      "\n",
      "Enter a news text to classify:\n",
      " A famous celebrity was caught in an alien conspiracy. Sources claim that the celebrity has been working with extraterrestrial beings to control world governments.\n"
     ]
    },
    {
     "name": "stdout",
     "output_type": "stream",
     "text": [
      "\n",
      "The news is predicted to be: Fake\n",
      "\n",
      "========================================\n",
      "== Welcome to the Fake News Detector ===\n",
      "========================================\n",
      "1. Fake News Detector\n",
      "2. Confusion Matrix\n",
      "3. Show Performance Metrics\n",
      "4. Exit Program\n",
      "========================================\n"
     ]
    },
    {
     "name": "stdin",
     "output_type": "stream",
     "text": [
      "Enter your choice (1/2/3/4):  2\n"
     ]
    },
    {
     "name": "stdout",
     "output_type": "stream",
     "text": [
      "\n",
      "Displaying Confusion Matrix...\n",
      "\n"
     ]
    },
    {
     "data": {
      "image/png": "[encoded data removed]",
      "text/plain": [
       "<Figure size 1000x700 with 2 Axes>"
      ]
     },
     "metadata": {},
     "output_type": "display_data"
    },
    {
     "name": "stdout",
     "output_type": "stream",
     "text": [
      "\n",
      "========================================\n",
      "== Welcome to the Fake News Detector ===\n",
      "========================================\n",
      "1. Fake News Detector\n",
      "2. Confusion Matrix\n",
      "3. Show Performance Metrics\n",
      "4. Exit Program\n",
      "========================================\n"
     ]
    },
    {
     "name": "stdin",
     "output_type": "stream",
     "text": [
      "Enter your choice (1/2/3/4):  4\n"
     ]
    },
    {
     "name": "stdout",
     "output_type": "stream",
     "text": [
      "Exiting the program. Goodbye!\n"
     ]
    }
   ],
   "source": [
    "def print_menu():\n",
    "    print(\"\\n\" + \"=\"*40)\n",
    "    print(\" Welcome to the Fake News Detector \".center(40, '='))\n",
    "    print(\"=\"*40)\n",
    "    print(\"1. Fake News Detector\")\n",
    "    print(\"2. Confusion Matrix\")\n",
    "    print(\"3. Show Performance Metrics\")\n",
    "    print(\"4. Exit Program\")\n",
    "    print(\"=\"*40)\n",
    "while True:\n",
    "    print_menu()\n",
    "    \n",
    "    choice = input(\"Enter your choice (1/2/3/4): \").strip()\n",
    "    \n",
    "    if choice == '1':\n",
    "        user_input = input(\"\\nEnter a news text to classify:\\n\").strip()\n",
    "        result = classify_news(user_input)\n",
    "        print(f'\\nThe news is predicted to be: {result}')\n",
    "    elif choice == '2':\n",
    "        print(\"\\nDisplaying Confusion Matrix...\\n\")\n",
    "        show_confusion_matrix()\n",
    "    elif choice == '3':\n",
    "        print(\"\\nDisplaying Performance Metrics...\\n\")\n",
    "        show_metrics()\n",
    "    elif choice == '4':\n",
    "        print(\"Exiting the program. Goodbye!\")\n",
    "        break\n",
    "    else:\n",
    "        print(\"Invalid choice, please try again.\")"
   ]
  },
  {
   "cell_type": "code",
   "execution_count": null,
   "id": "bfb3be06-ec0e-444f-9525-763a567ce2ea",
   "metadata": {},
   "outputs": [],
   "source": []
  },
  {
   "cell_type": "code",
   "execution_count": null,
   "id": "4c011c24-6916-4146-9161-9c75e2c61df8",
   "metadata": {},
   "outputs": [],
   "source": []
  },
  {
   "cell_type": "code",
   "execution_count": null,
   "id": "ca7f8eb8-f255-4b21-a6b4-4808bb8f41a1",
   "metadata": {},
   "outputs": [],
   "source": []
  }
 ],
 "metadata": {
  "kernelspec": {
   "display_name": "Python 3 (ipykernel)",
   "language": "python",
   "name": "python3"
  },
  "language_info": {
   "codemirror_mode": {
    "name": "ipython",
    "version": 3
   },
   "file_extension": ".py",
   "mimetype": "text/x-python",
   "name": "python",
   "nbconvert_exporter": "python",
   "pygments_lexer": "ipython3",
   "version": "3.11.7"
  }
 },
 "nbformat": 4,
 "nbformat_minor": 5
}
