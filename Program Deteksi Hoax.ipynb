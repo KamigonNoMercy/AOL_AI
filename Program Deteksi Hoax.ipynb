{
 "cells": [
  {
   "cell_type": "code",
   "execution_count": 2,
   "id": "8a533e59",
   "metadata": {},
   "outputs": [],
   "source": [
    "import numpy as np\n",
    "'''\n",
    "Pada baris ini, kita mengimpor NumPy dengan menggunakan pernyataan import. \n",
    "NumPy adalah library Python yang digunakan untuk komputasi numerik. Di sini, kita mengimpor NumPy dengan alias np, \n",
    "yang merupakan konvensi umum yang memudahkan kita dalam menggunakan fungsi dan objek NumPy.\n",
    "'''\n",
    "import pandas as pd\n",
    "'''\n",
    "Dengan baris ini, kita mengimpor Pandas dengan alias pd. Pandas adalah library Python \n",
    "yang digunakan untuk analisis data dan manipulasi dataset dalam bentuk DataFrame. Dengan menggunakan Pandas,\n",
    "kita dapat membaca dataset dari berbagai format file, seperti CSV, Excel, SQL, dan lainnya.\n",
    "'''\n",
    "from sklearn.model_selection import train_test_split\n",
    "'''\n",
    "Dengan baris ini, kita mengimpor fungsi train_test_split dari modul model_selection \n",
    "yang terdapat dalam library scikit-learn (sklearn). Fungsi train_test_split digunakan \n",
    "untuk membagi dataset menjadi dua bagian, yaitu data pelatihan dan data pengujian, \n",
    "sehingga kita dapat melatih model pada data pelatihan dan menguji performanya pada data pengujian.\n",
    "'''\n",
    "from sklearn.feature_extraction.text import TfidfVectorizer\n",
    "'''\n",
    "Dengan baris ini, kita mengimpor kelas TfidfVectorizer dari modul feature_extraction.text dalam library scikit-learn. \n",
    "TfidfVectorizer digunakan untuk mengubah teks menjadi representasi vektor TF-IDF (Term Frequency-Inverse Document Frequency), \n",
    "yang merupakan salah satu metode vektorisasi teks yang umum digunakan dalam pemrosesan bahasa alami dan analisis teks.\n",
    "'''\n",
    "from sklearn.svm import LinearSVC\n",
    "'''\n",
    "Dengan baris ini, kita mengimpor kelas LinearSVC dari modul svm dalam library scikit-learn. LinearSVC adalah implementasi SVM\n",
    "(Support Vector Machine) untuk klasifikasi dengan kernel linier. SVM adalah algoritma pembelajaran yang digunakan\n",
    "untuk pemisahan kelas dalam ruang berdimensi tinggi.\n",
    "'''\n",
    "from sklearn.pipeline import make_pipeline\n",
    "'''\n",
    "Dengan baris ini, kita mengimpor fungsi make_pipeline dari modul pipeline dalam library scikit-learn. \n",
    "make_pipeline digunakan untuk membuat pipeline, yaitu rangkaian dari beberapa estimator \n",
    "(seperti vektorisasi teks dan model klasifikasi) yang dijalankan secara berurutan. \n",
    "Pipeline ini memungkinkan kita untuk menggabungkan beberapa langkah pemrosesan data secara bersamaan.\n",
    "'''\n",
    "from sklearn import metrics"
   ]
  },
  {
   "cell_type": "code",
   "execution_count": 3,
   "id": "8690b01e",
   "metadata": {},
   "outputs": [],
   "source": [
    "# Load dataset\n",
    "df = pd.read_csv(\"fake_or_real_news.csv\")\n"
   ]
  },
  {
   "cell_type": "code",
   "execution_count": 4,
   "id": "52089738",
   "metadata": {},
   "outputs": [
    {
     "data": {
      "text/html": [
       "<div>\n",
       "<style scoped>\n",
       "    .dataframe tbody tr th:only-of-type {\n",
       "        vertical-align: middle;\n",
       "    }\n",
       "\n",
       "    .dataframe tbody tr th {\n",
       "        vertical-align: top;\n",
       "    }\n",
       "\n",
       "    .dataframe thead th {\n",
       "        text-align: right;\n",
       "    }\n",
       "</style>\n",
       "<table border=\"1\" class=\"dataframe\">\n",
       "  <thead>\n",
       "    <tr style=\"text-align: right;\">\n",
       "      <th></th>\n",
       "      <th>id</th>\n",
       "      <th>title</th>\n",
       "      <th>text</th>\n",
       "      <th>label</th>\n",
       "      <th>fake</th>\n",
       "    </tr>\n",
       "  </thead>\n",
       "  <tbody>\n",
       "    <tr>\n",
       "      <th>0</th>\n",
       "      <td>8476</td>\n",
       "      <td>You Can Smell Hillary’s Fear</td>\n",
       "      <td>Daniel Greenfield, a Shillman Journalism Fello...</td>\n",
       "      <td>FAKE</td>\n",
       "      <td>1</td>\n",
       "    </tr>\n",
       "    <tr>\n",
       "      <th>1</th>\n",
       "      <td>10294</td>\n",
       "      <td>Watch The Exact Moment Paul Ryan Committed Pol...</td>\n",
       "      <td>Google Pinterest Digg Linkedin Reddit Stumbleu...</td>\n",
       "      <td>FAKE</td>\n",
       "      <td>1</td>\n",
       "    </tr>\n",
       "    <tr>\n",
       "      <th>2</th>\n",
       "      <td>3608</td>\n",
       "      <td>Kerry to go to Paris in gesture of sympathy</td>\n",
       "      <td>U.S. Secretary of State John F. Kerry said Mon...</td>\n",
       "      <td>REAL</td>\n",
       "      <td>0</td>\n",
       "    </tr>\n",
       "    <tr>\n",
       "      <th>3</th>\n",
       "      <td>10142</td>\n",
       "      <td>Bernie supporters on Twitter erupt in anger ag...</td>\n",
       "      <td>— Kaydee King (@KaydeeKing) November 9, 2016 T...</td>\n",
       "      <td>FAKE</td>\n",
       "      <td>1</td>\n",
       "    </tr>\n",
       "    <tr>\n",
       "      <th>4</th>\n",
       "      <td>875</td>\n",
       "      <td>The Battle of New York: Why This Primary Matters</td>\n",
       "      <td>It's primary day in New York and front-runners...</td>\n",
       "      <td>REAL</td>\n",
       "      <td>0</td>\n",
       "    </tr>\n",
       "    <tr>\n",
       "      <th>...</th>\n",
       "      <td>...</td>\n",
       "      <td>...</td>\n",
       "      <td>...</td>\n",
       "      <td>...</td>\n",
       "      <td>...</td>\n",
       "    </tr>\n",
       "    <tr>\n",
       "      <th>6330</th>\n",
       "      <td>4490</td>\n",
       "      <td>State Department says it can't find emails fro...</td>\n",
       "      <td>The State Department told the Republican Natio...</td>\n",
       "      <td>REAL</td>\n",
       "      <td>0</td>\n",
       "    </tr>\n",
       "    <tr>\n",
       "      <th>6331</th>\n",
       "      <td>8062</td>\n",
       "      <td>The ‘P’ in PBS Should Stand for ‘Plutocratic’ ...</td>\n",
       "      <td>The ‘P’ in PBS Should Stand for ‘Plutocratic’ ...</td>\n",
       "      <td>FAKE</td>\n",
       "      <td>1</td>\n",
       "    </tr>\n",
       "    <tr>\n",
       "      <th>6332</th>\n",
       "      <td>8622</td>\n",
       "      <td>Anti-Trump Protesters Are Tools of the Oligarc...</td>\n",
       "      <td>Anti-Trump Protesters Are Tools of the Oligar...</td>\n",
       "      <td>FAKE</td>\n",
       "      <td>1</td>\n",
       "    </tr>\n",
       "    <tr>\n",
       "      <th>6333</th>\n",
       "      <td>4021</td>\n",
       "      <td>In Ethiopia, Obama seeks progress on peace, se...</td>\n",
       "      <td>ADDIS ABABA, Ethiopia —President Obama convene...</td>\n",
       "      <td>REAL</td>\n",
       "      <td>0</td>\n",
       "    </tr>\n",
       "    <tr>\n",
       "      <th>6334</th>\n",
       "      <td>4330</td>\n",
       "      <td>Jeb Bush Is Suddenly Attacking Trump. Here's W...</td>\n",
       "      <td>Jeb Bush Is Suddenly Attacking Trump. Here's W...</td>\n",
       "      <td>REAL</td>\n",
       "      <td>0</td>\n",
       "    </tr>\n",
       "  </tbody>\n",
       "</table>\n",
       "<p>6335 rows × 5 columns</p>\n",
       "</div>"
      ],
      "text/plain": [
       "         id                                              title  \\\n",
       "0      8476                       You Can Smell Hillary’s Fear   \n",
       "1     10294  Watch The Exact Moment Paul Ryan Committed Pol...   \n",
       "2      3608        Kerry to go to Paris in gesture of sympathy   \n",
       "3     10142  Bernie supporters on Twitter erupt in anger ag...   \n",
       "4       875   The Battle of New York: Why This Primary Matters   \n",
       "...     ...                                                ...   \n",
       "6330   4490  State Department says it can't find emails fro...   \n",
       "6331   8062  The ‘P’ in PBS Should Stand for ‘Plutocratic’ ...   \n",
       "6332   8622  Anti-Trump Protesters Are Tools of the Oligarc...   \n",
       "6333   4021  In Ethiopia, Obama seeks progress on peace, se...   \n",
       "6334   4330  Jeb Bush Is Suddenly Attacking Trump. Here's W...   \n",
       "\n",
       "                                                   text label  fake  \n",
       "0     Daniel Greenfield, a Shillman Journalism Fello...  FAKE     1  \n",
       "1     Google Pinterest Digg Linkedin Reddit Stumbleu...  FAKE     1  \n",
       "2     U.S. Secretary of State John F. Kerry said Mon...  REAL     0  \n",
       "3     — Kaydee King (@KaydeeKing) November 9, 2016 T...  FAKE     1  \n",
       "4     It's primary day in New York and front-runners...  REAL     0  \n",
       "...                                                 ...   ...   ...  \n",
       "6330  The State Department told the Republican Natio...  REAL     0  \n",
       "6331  The ‘P’ in PBS Should Stand for ‘Plutocratic’ ...  FAKE     1  \n",
       "6332   Anti-Trump Protesters Are Tools of the Oligar...  FAKE     1  \n",
       "6333  ADDIS ABABA, Ethiopia —President Obama convene...  REAL     0  \n",
       "6334  Jeb Bush Is Suddenly Attacking Trump. Here's W...  REAL     0  \n",
       "\n",
       "[6335 rows x 5 columns]"
      ]
     },
     "execution_count": 4,
     "metadata": {},
     "output_type": "execute_result"
    }
   ],
   "source": [
    "# Create binary labels\n",
    "df['fake'] = df['label'].apply(lambda x: 0 if x == \"REAL\" else 1)"
   ]
  },
  {
   "cell_type": "code",
   "execution_count": 5,
   "id": "56ac8858",
   "metadata": {},
   "outputs": [],
   "source": [
    "# Drop the original label column\n",
    "df = df.drop(\"label\", axis=1)"
   ]
  },
  {
   "cell_type": "code",
   "execution_count": 9,
   "id": "d3a9d92f",
   "metadata": {},
   "outputs": [
    {
     "data": {
      "text/plain": [
       "'\\nMemisahkan fitur (X) dan label (y) dari DataFrame df, \\ndimana X adalah teks berita dan y adalah label biner yang menunjukkan apakah berita tersebut \"Fake\" atau \"Real\".\\n'"
      ]
     },
     "execution_count": 9,
     "metadata": {},
     "output_type": "execute_result"
    }
   ],
   "source": [
    "# Prepare features and labels\n",
    "X, y = df['text'], df['fake']\n",
    "'''\n",
    "Memisahkan fitur (X) dan label (y) dari DataFrame df, \n",
    "dimana X adalah teks berita dan y adalah label biner yang menunjukkan apakah berita tersebut \"Fake\" atau \"Real\".\n",
    "'''"
   ]
  },
  {
   "cell_type": "code",
   "execution_count": 10,
   "id": "f3ada32f",
   "metadata": {},
   "outputs": [
    {
     "data": {
      "text/plain": [
       "'\\n Membagi dataset menjadi dua bagian, yaitu data pelatihan (80%) dan data pengujian (20%). \\n Ini dilakukan menggunakan fungsi train_test_split() dari scikit-learn.\\n'"
      ]
     },
     "execution_count": 10,
     "metadata": {},
     "output_type": "execute_result"
    }
   ],
   "source": [
    "# Split the dataset into training and testing sets\n",
    "X_train, X_test, y_train, y_test = train_test_split(X, y, test_size=0.2, random_state=42)\n",
    "'''\n",
    " Membagi dataset menjadi dua bagian, yaitu data pelatihan (80%) dan data pengujian (20%). \n",
    " Ini dilakukan menggunakan fungsi train_test_split() dari scikit-learn.\n",
    "'''"
   ]
  },
  {
   "cell_type": "code",
   "execution_count": 11,
   "id": "ff5c5cf5",
   "metadata": {},
   "outputs": [
    {
     "data": {
      "text/plain": [
       "'\\nBaris 19: Membuat pipeline yang terdiri dari dua tahap: vektorisasi TF-IDF dan model SVM linier. \\nTfidfVectorizer digunakan untuk mengubah teks menjadi representasi vektor TF-IDF, sedangkan LinearSVC \\nadalah model klasifikasi SVM linier.\\n'"
      ]
     },
     "execution_count": 11,
     "metadata": {},
     "output_type": "execute_result"
    }
   ],
   "source": [
    "# Create a pipeline that combines the vectorizer and the classifier\n",
    "model = make_pipeline(TfidfVectorizer(stop_words=\"english\", max_df=0.7), LinearSVC())\n",
    "'''\n",
    "Baris 19: Membuat pipeline yang terdiri dari dua tahap: vektorisasi TF-IDF dan model SVM linier. \n",
    "TfidfVectorizer digunakan untuk mengubah teks menjadi representasi vektor TF-IDF, sedangkan LinearSVC \n",
    "adalah model klasifikasi SVM linier.\n",
    "'''"
   ]
  },
  {
   "cell_type": "code",
   "execution_count": 12,
   "id": "67839ca8",
   "metadata": {},
   "outputs": [
    {
     "name": "stderr",
     "output_type": "stream",
     "text": [
      "C:\\Users\\mikot\\anaconda3\\Lib\\site-packages\\sklearn\\svm\\_classes.py:32: FutureWarning: The default value of `dual` will change from `True` to `'auto'` in 1.5. Set the value of `dual` explicitly to suppress the warning.\n",
      "  warnings.warn(\n"
     ]
    },
    {
     "data": {
      "text/plain": [
       "'\\nMelatih model pada data pelatihan\\n'"
      ]
     },
     "execution_count": 12,
     "metadata": {},
     "output_type": "execute_result"
    }
   ],
   "source": [
    "# Train the model\n",
    "model.fit(X_train, y_train)\n",
    "'''\n",
    "Melatih model pada data pelatihan\n",
    "'''"
   ]
  },
  {
   "cell_type": "code",
   "execution_count": 13,
   "id": "d985fa89",
   "metadata": {},
   "outputs": [
    {
     "name": "stdout",
     "output_type": "stream",
     "text": [
      "Accuracy: 0.94\n"
     ]
    },
    {
     "data": {
      "text/plain": [
       "'\\nMenggunakan model yang dilatih untuk melakukan prediksi pada data pengujian dan \\nmencetak akurasi dari model menggunakan metrik accuracy_score dari scikit-learn.\\n'"
      ]
     },
     "execution_count": 13,
     "metadata": {},
     "output_type": "execute_result"
    }
   ],
   "source": [
    "# Evaluate the model\n",
    "predictions = model.predict(X_test)\n",
    "print(f\"Accuracy: {metrics.accuracy_score(y_test, predictions):.2f}\")\n",
    "'''\n",
    "Menggunakan model yang dilatih untuk melakukan prediksi pada data pengujian dan \n",
    "mencetak akurasi dari model menggunakan metrik accuracy_score dari scikit-learn.\n",
    "'''"
   ]
  },
  {
   "cell_type": "code",
   "execution_count": 14,
   "id": "6703e60c",
   "metadata": {},
   "outputs": [
    {
     "data": {
      "text/plain": [
       "'\\nMendefinisikan fungsi classify_news() yang memungkinkan pengguna memasukkan teks berita dan mengklasifikasikannya \\nsebagai \"Fake\" atau \"Real\". Program akan terus berjalan hingga pengguna memilih untuk keluar dengan mengetikkan \\'exit\\'.\\n'"
      ]
     },
     "execution_count": 14,
     "metadata": {},
     "output_type": "execute_result"
    }
   ],
   "source": [
    "# Interactive prediction loop\n",
    "def classify_news():\n",
    "    print(\"Enter a news article to classify it as Fake or Real. Type 'exit' to quit.\")\n",
    "    while True:\n",
    "        user_input = input(\"\\nEnter news text: \")\n",
    "        if user_input.lower() == 'exit':\n",
    "            print(\"Exiting the program.\")\n",
    "            break\n",
    "        prediction = model.predict([user_input])\n",
    "        label = \"FAKE\" if prediction[0] == 1 else \"REAL\"\n",
    "        print(f\"The news article is classified as: {label}\")\n",
    "'''\n",
    "Mendefinisikan fungsi classify_news() yang memungkinkan pengguna memasukkan teks berita dan mengklasifikasikannya \n",
    "sebagai \"Fake\" atau \"Real\". Program akan terus berjalan hingga pengguna memilih untuk keluar dengan mengetikkan 'exit'.\n",
    "'''"
   ]
  },
  {
   "cell_type": "code",
   "execution_count": 15,
   "id": "5906e47a",
   "metadata": {},
   "outputs": [
    {
     "name": "stdout",
     "output_type": "stream",
     "text": [
      "Enter a news article to classify it as Fake or Real. Type 'exit' to quit.\n",
      "\n",
      "Enter news text: j\n",
      "The news article is classified as: FAKE\n",
      "\n",
      "Enter news text: Daniel Greenfield, a Shillman Journalism Fello...\t\n",
      "The news article is classified as: FAKE\n",
      "\n",
      "Enter news text: exit\n",
      "Exiting the program.\n"
     ]
    }
   ],
   "source": [
    "# Start the interactive loop\n",
    "classify_news()"
   ]
  },
  {
   "cell_type": "code",
   "execution_count": null,
   "id": "2c246d94",
   "metadata": {},
   "outputs": [],
   "source": [
    "df"
   ]
  },
  {
   "cell_type": "code",
   "execution_count": null,
   "id": "d22e8700",
   "metadata": {},
   "outputs": [],
   "source": []
  },
  {
   "cell_type": "code",
   "execution_count": null,
   "id": "d8db1ce5",
   "metadata": {},
   "outputs": [],
   "source": []
  }
 ],
 "metadata": {
  "kernelspec": {
   "display_name": "Python 3 (ipykernel)",
   "language": "python",
   "name": "python3"
  },
  "language_info": {
   "codemirror_mode": {
    "name": "ipython",
    "version": 3
   },
   "file_extension": ".py",
   "mimetype": "text/x-python",
   "name": "python",
   "nbconvert_exporter": "python",
   "pygments_lexer": "ipython3",
   "version": "3.11.5"
  }
 },
 "nbformat": 4,
 "nbformat_minor": 5
}
